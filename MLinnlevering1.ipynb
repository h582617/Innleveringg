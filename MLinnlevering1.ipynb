{
 "cells": [
  {
   "cell_type": "code",
   "id": "initial_id",
   "metadata": {
    "collapsed": true,
    "ExecuteTime": {
     "end_time": "2024-09-23T06:37:34.130754Z",
     "start_time": "2024-09-23T06:37:25.832269Z"
    }
   },
   "source": [
    "import pandas as pd\n",
    "from sklearn.ensemble import RandomForestClassifier\n",
    "from sklearn.preprocessing import StandardScaler\n",
    "from sklearn.model_selection import train_test_split, GridSearchCV\n",
    "from sklearn.metrics import balanced_accuracy_score\n",
    "\n",
    "# Load training and test datasets\n",
    "train_data = pd.read_csv('C:\\\\Users\\\\pc\\\\Documents\\\\DAT158\\\\train.csv')\n",
    "test_data = pd.read_csv('C:\\\\Users\\\\pc\\\\Documents\\\\DAT158\\\\test.csv')\n",
    "\n",
    "# Inspect the data\n",
    "print(train_data.head())\n",
    "print(train_data.describe())\n",
    "print(train_data.info())"
   ],
   "outputs": [
    {
     "name": "stdout",
     "output_type": "stream",
     "text": [
      "   Id  HighBP  HighChol  CholCheck  BMI  Smoker  Stroke  HeartDiseaseorAttack  \\\n",
      "0   1       1         1          1   21       0       0                     0   \n",
      "1   2       1         0          1   26       1       0                     0   \n",
      "2   3       1         1          1   29       0       0                     1   \n",
      "3   4       1         1          1   27       0       0                     0   \n",
      "4   5       1         1          1   26       1       0                     0   \n",
      "\n",
      "   PhysActivity  Fruits  ...  NoDocbcCost  GenHlth  MentHlth  PhysHlth  \\\n",
      "0             1       1  ...            0        4         0         0   \n",
      "1             1       1  ...            0        3         0         0   \n",
      "2             0       0  ...            0        3        15         5   \n",
      "3             1       1  ...            0        2         0         0   \n",
      "4             0       0  ...            0        2         0         0   \n",
      "\n",
      "   DiffWalk  Sex  Age  Education  Income  Target  \n",
      "0         0    0   13          4       5       1  \n",
      "1         0    0   10          5       3       0  \n",
      "2         0    1   13          6       8       1  \n",
      "3         0    1    9          6       8       0  \n",
      "4         0    0    6          5       7       0  \n",
      "\n",
      "[5 rows x 23 columns]\n",
      "                  Id         HighBP       HighChol      CholCheck  \\\n",
      "count  177576.000000  177576.000000  177576.000000  177576.000000   \n",
      "mean    88788.500000       0.428200       0.422946       0.962934   \n",
      "std     51261.920038       0.494819       0.494028       0.188924   \n",
      "min         1.000000       0.000000       0.000000       0.000000   \n",
      "25%     44394.750000       0.000000       0.000000       1.000000   \n",
      "50%     88788.500000       0.000000       0.000000       1.000000   \n",
      "75%    133182.250000       1.000000       1.000000       1.000000   \n",
      "max    177576.000000       1.000000       1.000000       1.000000   \n",
      "\n",
      "                 BMI         Smoker         Stroke  HeartDiseaseorAttack  \\\n",
      "count  177576.000000  177576.000000  177576.000000         177576.000000   \n",
      "mean       28.388583       0.443050       0.040585              0.094438   \n",
      "std         6.614717       0.496747       0.197328              0.292439   \n",
      "min        12.000000       0.000000       0.000000              0.000000   \n",
      "25%        24.000000       0.000000       0.000000              0.000000   \n",
      "50%        27.000000       0.000000       0.000000              0.000000   \n",
      "75%        31.000000       1.000000       0.000000              0.000000   \n",
      "max        98.000000       1.000000       1.000000              1.000000   \n",
      "\n",
      "        PhysActivity         Fruits  ...    NoDocbcCost        GenHlth  \\\n",
      "count  177576.000000  177576.000000  ...  177576.000000  177576.000000   \n",
      "mean        0.756516       0.634855  ...       0.083728       2.510063   \n",
      "std         0.429186       0.481472  ...       0.276980       1.067314   \n",
      "min         0.000000       0.000000  ...       0.000000       1.000000   \n",
      "25%         1.000000       0.000000  ...       0.000000       2.000000   \n",
      "50%         1.000000       1.000000  ...       0.000000       2.000000   \n",
      "75%         1.000000       1.000000  ...       0.000000       3.000000   \n",
      "max         1.000000       1.000000  ...       1.000000       5.000000   \n",
      "\n",
      "            MentHlth       PhysHlth       DiffWalk            Sex  \\\n",
      "count  177576.000000  177576.000000  177576.000000  177576.000000   \n",
      "mean        3.171712       4.220018       0.168874       0.439496   \n",
      "std         7.392659       8.697054       0.374642       0.496327   \n",
      "min         0.000000       0.000000       0.000000       0.000000   \n",
      "25%         0.000000       0.000000       0.000000       0.000000   \n",
      "50%         0.000000       0.000000       0.000000       0.000000   \n",
      "75%         2.000000       3.000000       0.000000       1.000000   \n",
      "max        30.000000      30.000000       1.000000       1.000000   \n",
      "\n",
      "                 Age      Education         Income         Target  \n",
      "count  177576.000000  177576.000000  177576.000000  177576.000000  \n",
      "mean        8.036649       5.052012       6.057615       0.139591  \n",
      "std         3.050500       0.983907       2.068398       0.346563  \n",
      "min         1.000000       1.000000       1.000000       0.000000  \n",
      "25%         6.000000       4.000000       5.000000       0.000000  \n",
      "50%         8.000000       5.000000       7.000000       0.000000  \n",
      "75%        10.000000       6.000000       8.000000       0.000000  \n",
      "max        13.000000       6.000000       8.000000       1.000000  \n",
      "\n",
      "[8 rows x 23 columns]\n",
      "<class 'pandas.core.frame.DataFrame'>\n",
      "RangeIndex: 177576 entries, 0 to 177575\n",
      "Data columns (total 23 columns):\n",
      " #   Column                Non-Null Count   Dtype\n",
      "---  ------                --------------   -----\n",
      " 0   Id                    177576 non-null  int64\n",
      " 1   HighBP                177576 non-null  int64\n",
      " 2   HighChol              177576 non-null  int64\n",
      " 3   CholCheck             177576 non-null  int64\n",
      " 4   BMI                   177576 non-null  int64\n",
      " 5   Smoker                177576 non-null  int64\n",
      " 6   Stroke                177576 non-null  int64\n",
      " 7   HeartDiseaseorAttack  177576 non-null  int64\n",
      " 8   PhysActivity          177576 non-null  int64\n",
      " 9   Fruits                177576 non-null  int64\n",
      " 10  Veggies               177576 non-null  int64\n",
      " 11  HvyAlcoholConsump     177576 non-null  int64\n",
      " 12  AnyHealthcare         177576 non-null  int64\n",
      " 13  NoDocbcCost           177576 non-null  int64\n",
      " 14  GenHlth               177576 non-null  int64\n",
      " 15  MentHlth              177576 non-null  int64\n",
      " 16  PhysHlth              177576 non-null  int64\n",
      " 17  DiffWalk              177576 non-null  int64\n",
      " 18  Sex                   177576 non-null  int64\n",
      " 19  Age                   177576 non-null  int64\n",
      " 20  Education             177576 non-null  int64\n",
      " 21  Income                177576 non-null  int64\n",
      " 22  Target                177576 non-null  int64\n",
      "dtypes: int64(23)\n",
      "memory usage: 31.2 MB\n",
      "None\n"
     ]
    }
   ],
   "execution_count": 1
  },
  {
   "metadata": {
    "ExecuteTime": {
     "end_time": "2024-09-23T06:37:41.038519Z",
     "start_time": "2024-09-23T06:37:40.137483Z"
    }
   },
   "cell_type": "code",
   "source": [
    "# Fill missing values with mean (if any)\n",
    "train_data.fillna(train_data.mean(), inplace=True)\n",
    "test_data.fillna(test_data.mean(), inplace=True)\n",
    "\n",
    "# Feature scaling\n",
    "scaler = StandardScaler()\n",
    "features = ['BMI', 'MentHlth', 'PhysHlth', 'Age', 'Income']\n",
    "train_data[features] = scaler.fit_transform(train_data[features])\n",
    "test_data[features] = scaler.transform(test_data[features])\n",
    "\n",
    "# Create a new feature for total bad health days\n",
    "train_data['TotalBadHealthDays'] = train_data['MentHlth'] + train_data['PhysHlth']\n",
    "test_data['TotalBadHealthDays'] = test_data['MentHlth'] + test_data['PhysHlth']\n",
    "\n",
    "# Separate features and target in the training set\n",
    "X = train_data.drop(columns=['Target', 'Id'])\n",
    "y = train_data['Target']"
   ],
   "id": "b9f544bcaa96f12d",
   "outputs": [],
   "execution_count": 2
  },
  {
   "metadata": {
    "ExecuteTime": {
     "end_time": "2024-09-23T06:37:42.649283Z",
     "start_time": "2024-09-23T06:37:42.002985Z"
    }
   },
   "cell_type": "code",
   "source": [
    "# Split training data into train and validation sets\n",
    "X_train, X_val, y_train, y_val = train_test_split(X, y, test_size=0.2, stratify=y, random_state=42)\n",
    "\n",
    "# Initialize the Random Forest model\n",
    "model = RandomForestClassifier(class_weight='balanced', random_state=42)"
   ],
   "id": "d9186472db8b77b8",
   "outputs": [],
   "execution_count": 3
  },
  {
   "metadata": {
    "ExecuteTime": {
     "end_time": "2024-09-23T06:39:07.517850Z",
     "start_time": "2024-09-23T06:37:43.642329Z"
    }
   },
   "cell_type": "code",
   "source": [
    "# Hyperparameter tuning using GridSearchCV\n",
    "param_grid = {\n",
    "    'n_estimators': [50, 100],\n",
    "    'max_depth': [10, 20],\n",
    "    'min_samples_split': [2, 5]\n",
    "}\n",
    "\n",
    "grid_search = GridSearchCV(estimator=model, param_grid=param_grid, cv=3, scoring='balanced_accuracy', n_jobs=-1)\n",
    "grid_search.fit(X_train, y_train)\n",
    "\n",
    "print(\"Best parameters:\", grid_search.best_params_)"
   ],
   "id": "71c9547c05808675",
   "outputs": [
    {
     "name": "stdout",
     "output_type": "stream",
     "text": [
      "Best parameters: {'max_depth': 10, 'min_samples_split': 5, 'n_estimators': 100}\n"
     ]
    }
   ],
   "execution_count": 4
  },
  {
   "metadata": {
    "ExecuteTime": {
     "end_time": "2024-09-23T06:39:21.100387Z",
     "start_time": "2024-09-23T06:39:20.608340Z"
    }
   },
   "cell_type": "code",
   "source": [
    "# Validate the best model\n",
    "best_model = grid_search.best_estimator_\n",
    "y_val_pred = best_model.predict(X_val)\n",
    "balanced_acc = balanced_accuracy_score(y_val, y_val_pred)\n",
    "print(f'Balanced accuracy on validation set: {balanced_acc}')"
   ],
   "id": "3fb5dd2e33e6f7d2",
   "outputs": [
    {
     "name": "stdout",
     "output_type": "stream",
     "text": [
      "Balanced accuracy on validation set: 0.7490973658408622\n"
     ]
    }
   ],
   "execution_count": 5
  },
  {
   "metadata": {
    "ExecuteTime": {
     "end_time": "2024-09-23T06:39:24.976316Z",
     "start_time": "2024-09-23T06:39:23.829461Z"
    }
   },
   "cell_type": "code",
   "source": [
    "# Predict on the test set\n",
    "test_features = test_data.drop(columns=['Id'])\n",
    "test_predictions = best_model.predict(test_features)\n",
    "\n",
    "# Prepare the submission file\n",
    "submission = pd.DataFrame({\n",
    "    'Id': test_data['Id'],\n",
    "    'Target': test_predictions\n",
    "})\n",
    "submission.to_csv('submission.csv', index=False)\n",
    "print(\"Submission file created successfully.\")"
   ],
   "id": "1f196e1474daae32",
   "outputs": [
    {
     "name": "stdout",
     "output_type": "stream",
     "text": [
      "Submission file created successfully.\n"
     ]
    }
   ],
   "execution_count": 6
  },
  {
   "metadata": {},
   "cell_type": "code",
   "outputs": [],
   "execution_count": null,
   "source": "",
   "id": "d4a8bbed2979e3ae"
  }
 ],
 "metadata": {
  "kernelspec": {
   "display_name": "Python 3",
   "language": "python",
   "name": "python3"
  },
  "language_info": {
   "codemirror_mode": {
    "name": "ipython",
    "version": 2
   },
   "file_extension": ".py",
   "mimetype": "text/x-python",
   "name": "python",
   "nbconvert_exporter": "python",
   "pygments_lexer": "ipython2",
   "version": "2.7.6"
  }
 },
 "nbformat": 4,
 "nbformat_minor": 5
}
